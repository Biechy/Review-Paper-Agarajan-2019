{
 "cells": [
  {
   "cell_type": "markdown",
   "metadata": {},
   "source": [
    "# Imports\n"
   ]
  },
  {
   "cell_type": "code",
   "execution_count": null,
   "metadata": {},
   "outputs": [],
   "source": [
    "import torch\n",
    "import torch.nn as nn\n",
    "import torchvision\n",
    "import torchvision.transforms as transforms\n",
    "from torch.utils.data import DataLoader\n",
    "\n",
    "import matplotlib.pyplot as plt"
   ]
  },
  {
   "cell_type": "markdown",
   "metadata": {},
   "source": [
    "# Load Data\n"
   ]
  },
  {
   "cell_type": "code",
   "execution_count": null,
   "metadata": {},
   "outputs": [],
   "source": [
    "# Definition of a transformation to normalize the data\n",
    "transform = transforms.Compose([transforms.ToTensor(), transforms.Normalize((0.5,), (0.5,))])\n",
    "\n",
    "# Downloading MNIST data\n",
    "train_dataset = torchvision.datasets.MNIST(root='./data', train=True, transform=transform, download=True)\n",
    "test_dataset = torchvision.datasets.MNIST(root='./data', train=False, transform=transform, download=True)"
   ]
  },
  {
   "cell_type": "markdown",
   "metadata": {},
   "source": [
    "# Linear Model\n"
   ]
  },
  {
   "cell_type": "code",
   "execution_count": null,
   "metadata": {},
   "outputs": [],
   "source": [
    "# Model definition\n",
    "class LinearClassifier(nn.Module):\n",
    "    def __init__(self):\n",
    "        super(LinearClassifier, self).__init__()\n",
    "        self.fc1 = nn.Linear(28*28, 1)  # Linear layer 1\n",
    "\n",
    "        # Initialization of weights to zero\n",
    "        self.reset_parameters()\n",
    "\n",
    "    def reset_parameters(self):\n",
    "        nn.init.zeros_(self.fc1.weight)\n",
    "        if self.fc1.bias is not None:\n",
    "            nn.init.zeros_(self.fc1.bias)\n",
    "\n",
    "    def forward(self, x):\n",
    "        x = x.view(-1, 28*28)   # Flatten the image into a vector\n",
    "        x = self.fc1(x)\n",
    "        return x"
   ]
  },
  {
   "cell_type": "markdown",
   "metadata": {},
   "source": [
    "# Train & Test Loop\n"
   ]
  },
  {
   "cell_type": "markdown",
   "metadata": {},
   "source": [
    "## Parameters\n"
   ]
  },
  {
   "cell_type": "code",
   "execution_count": null,
   "metadata": {},
   "outputs": [],
   "source": [
    "# Definition of DataLoader for training and test data\n",
    "batch_size = 1\n",
    "test_loader = DataLoader(dataset=test_dataset, batch_size=batch_size, shuffle=False)\n",
    "\n",
    "# Definition of the loss function\n",
    "criterion = nn.BCEWithLogitsLoss()  # Binary Cross Entropy Loss\n",
    "\n",
    "# Training the model\n",
    "num_epochs = 15\n",
    "\n",
    "# List of training set sizes\n",
    "train_sizes = range(4000, len(train_dataset)+1, 14000)"
   ]
  },
  {
   "cell_type": "markdown",
   "metadata": {},
   "source": [
    "## Loop\n"
   ]
  },
  {
   "cell_type": "code",
   "execution_count": null,
   "metadata": {},
   "outputs": [],
   "source": [
    "# Initialization of lists to store the results\n",
    "train_losses = []\n",
    "test_errors = []\n",
    "for train_size in train_sizes:\n",
    "    subset_train_dataset = torch.utils.data.Subset(train_dataset, indices=list(range(train_size)))\n",
    "    subset_train_loader = DataLoader(dataset=subset_train_dataset, batch_size=batch_size, shuffle=True)\n",
    "\n",
    "    # Model instantiation\n",
    "    model = LinearClassifier()\n",
    "    # Optimizer instantiation\n",
    "    optimizer = torch.optim.SGD(model.parameters(), lr=0.1)\n",
    "\n",
    "    # Initialization of the loss for this training size\n",
    "    train_loss_list = []\n",
    "\n",
    "    for epoch in range(num_epochs):\n",
    "        for i, (images, labels) in enumerate(subset_train_loader):\n",
    "            # Forward pass\n",
    "            outputs = model(images)\n",
    "            labels = labels % 2  # Convert labels to 0 or 1 (even or odd)\n",
    "            loss = criterion(outputs, labels.float().view(-1, 1))\n",
    "\n",
    "            # Backward pass and optimization\n",
    "            optimizer.zero_grad()\n",
    "            loss.backward()\n",
    "            optimizer.step()\n",
    "            if (i+1) % 100 == 0:\n",
    "                print('Epoch [{}/{}], Step [{}/{}], Loss: {:.4f}'\n",
    "                      .format(epoch+1, num_epochs, i+1, len(subset_train_loader), loss.item()))\n",
    "            if epoch+1 == num_epochs:\n",
    "                train_loss_list.append(loss.item())\n",
    "\n",
    "    # Model evaluation\n",
    "    model.eval()\n",
    "    with torch.no_grad():\n",
    "        uncorrect = 0\n",
    "        total = 0\n",
    "        for images, labels in test_loader:\n",
    "            outputs = model(images)\n",
    "            predicted = torch.round(torch.sigmoid(outputs))  # Round predictions to 0 or 1\n",
    "            total += labels.size(0)\n",
    "            uncorrect += (predicted != (labels % 2).float().view(-1, 1)).sum().item()\n",
    "\n",
    "    # Calculation of the error on the test set\n",
    "    error = uncorrect / total\n",
    "\n",
    "    # Save the average loss on the training set and the error on the test set\n",
    "    train_losses.append(sum(train_loss_list) / len(train_loss_list))\n",
    "    test_errors.append(error)\n",
    "\n",
    "    print('Train Size: {}, Train Loss: {:.4f}, Test Error: {:.2f}%'.format(train_size, train_losses[-1], error*100))"
   ]
  },
  {
   "cell_type": "markdown",
   "metadata": {},
   "source": [
    "# Plot\n"
   ]
  },
  {
   "cell_type": "code",
   "execution_count": null,
   "metadata": {},
   "outputs": [],
   "source": [
    "# Plotting the results on the same axis\n",
    "plt.figure(figsize=(10, 5))\n",
    "\n",
    "# Training loss curve\n",
    "plt.plot(train_sizes, train_losses, marker='o', label='Train Loss')\n",
    "\n",
    "# Test error curve\n",
    "plt.plot(train_sizes, test_errors, marker='o', label='Test Error')\n",
    "\n",
    "# Graph configuration\n",
    "plt.title('Train Loss and Test Error vs Training Size')\n",
    "plt.xlabel('Training Size')\n",
    "plt.ylabel('Error')\n",
    "plt.legend()\n",
    "plt.grid(True)\n",
    "\n",
    "# Displaying the graph\n",
    "plt.show()"
   ]
  }
 ],
 "metadata": {
  "kernelspec": {
   "display_name": "Python 3",
   "language": "python",
   "name": "python3"
  },
  "language_info": {
   "codemirror_mode": {
    "name": "ipython",
    "version": 3
   },
   "file_extension": ".py",
   "mimetype": "text/x-python",
   "name": "python",
   "nbconvert_exporter": "python",
   "pygments_lexer": "ipython3",
   "version": "3.9.13"
  }
 },
 "nbformat": 4,
 "nbformat_minor": 2
}
